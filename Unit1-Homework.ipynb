{
 "cells": [
  {
   "cell_type": "markdown",
   "metadata": {},
   "source": [
    "# Project 1\n",
    "\n",
    "In this first project you will create a framework to scope out data science projects. This framework will provide you with a guide to develop a well-articulated problem statement and analysis plan that will be robust and reproducible."
   ]
  },
  {
   "cell_type": "markdown",
   "metadata": {},
   "source": [
    "## Read and evaluate the following problem statement: \n",
    "Determine which free-tier customers will convert to paying customers, using demographic data collected at signup (age, gender, location, and profession) and customer usage data (days since last log in, and activity score 1 = active user, 0= inactive user) based on Hooli data from Jan-Apr 2015. \n"
   ]
  },
  {
   "cell_type": "markdown",
   "metadata": {},
   "source": [
    "#### 1. What is the outcome?"
   ]
  },
  {
   "cell_type": "markdown",
   "metadata": {},
   "source": [
    "Answer: Whether or a free-tier customer will convert to a paying customer."
   ]
  },
  {
   "cell_type": "markdown",
   "metadata": {},
   "source": [
    "#### 2. What are the predictors/covariates? "
   ]
  },
  {
   "cell_type": "markdown",
   "metadata": {},
   "source": [
    "Answer: Demographic data (age, gender, location, and profesion) and customer usage data (days since last login, activity score)"
   ]
  },
  {
   "cell_type": "markdown",
   "metadata": {},
   "source": [
    "#### 3. What timeframe is this data relevant for?"
   ]
  },
  {
   "cell_type": "markdown",
   "metadata": {},
   "source": [
    "Answer: January to April 2015"
   ]
  },
  {
   "cell_type": "markdown",
   "metadata": {},
   "source": [
    "#### 4. What is the hypothesis?"
   ]
  },
  {
   "cell_type": "markdown",
   "metadata": {},
   "source": [
    "Answer: There is a statistically significant relationship between the demographic and customer usage data and whether a free-tier customer converts to a paying customer."
   ]
  },
  {
   "cell_type": "markdown",
   "metadata": {},
   "source": [
    "## Let's get started with our `admissions.csv` dataset"
   ]
  },
  {
   "cell_type": "markdown",
   "metadata": {},
   "source": [
    "#### 1. Create a data dictionary "
   ]
  },
  {
   "cell_type": "markdown",
   "metadata": {},
   "source": [
    "Answer: \n",
    "\n",
    "Variable | Description | Type of Variable\n",
    "---| ---| ---\n",
    "Admit | 0 = Not Admitted 1 = Admitted | categorical\n",
    "GPA | Grade Point Average on scale from 0.0 to 4.0 | continuous \n",
    "GRE | GRE score on scale from 0 to 800 | continuous\n",
    "Rank | Prestige of undergrad school on scale from 4 (lowest) to 1 (highest | categorical\n"
   ]
  },
  {
   "cell_type": "markdown",
   "metadata": {},
   "source": [
    "We would like to explore the association between admittance and a student's GPA score, GRE score, and prestige of their undergrad school. "
   ]
  },
  {
   "cell_type": "markdown",
   "metadata": {},
   "source": [
    "#### 2. What is the outcome?"
   ]
  },
  {
   "cell_type": "markdown",
   "metadata": {},
   "source": [
    "Answer: Whether or not the student is admitted. Return 'Admit': 0 = Not admitted, 1 = Admitted"
   ]
  },
  {
   "cell_type": "markdown",
   "metadata": {},
   "source": [
    "#### 3. What are the predictors/covariates? "
   ]
  },
  {
   "cell_type": "markdown",
   "metadata": {},
   "source": [
    "Answer: GPA, GRE, and Rank (prestige of the undergrad university)"
   ]
  },
  {
   "cell_type": "markdown",
   "metadata": {},
   "source": [
    "#### 4. What timeframe is this data relevant for?"
   ]
  },
  {
   "cell_type": "markdown",
   "metadata": {},
   "source": [
    "Answer: According to UCLA's 'Logistic Regression in R' page (http://stats.idre.ucla.edu/r/dae/logit-regression/) this analysis was run on Dec 16, 2013.  A timeframe for the admissions data has not been provided."
   ]
  },
  {
   "cell_type": "markdown",
   "metadata": {},
   "source": [
    "#### 5. What is the hypothesis?"
   ]
  },
  {
   "cell_type": "markdown",
   "metadata": {},
   "source": [
    "Answer: The higher a students GRE score and GPA and the lower the Rank of their undergrad school, the higher their change of being admitted."
   ]
  },
  {
   "cell_type": "markdown",
   "metadata": {},
   "source": [
    "#### 6. Using the above information, write a well-formed problem statement. \n"
   ]
  },
  {
   "cell_type": "markdown",
   "metadata": {},
   "source": [
    "Answer: \n",
    "Determine how likely it is that an applicant will be admitted (1 = admitted, 0 = not admitted) into UCLA based upon academic scores (GPA and GRE - continuous) and the rank of the student's undergrad institution (discrete 1 to 4)."
   ]
  },
  {
   "cell_type": "markdown",
   "metadata": {},
   "source": [
    "### Exploratory Analysis Plan"
   ]
  },
  {
   "cell_type": "markdown",
   "metadata": {},
   "source": [
    "Using the lab from a class as a guide, create an exploratory analysis plan. "
   ]
  },
  {
   "cell_type": "markdown",
   "metadata": {},
   "source": [
    "#### 1. What are the goals of the exploratory analysis? "
   ]
  },
  {
   "cell_type": "markdown",
   "metadata": {
    "collapsed": true
   },
   "source": [
    "Answer: To summarize the characteristics of the data, identify inconsistencies, understand the distribution (skew, # of outliers, measures of central tendency), determine data quality (# of null values), and ultimately determine what kind of hypothesis can be tested with the data."
   ]
  },
  {
   "cell_type": "markdown",
   "metadata": {},
   "source": [
    "#### 2a. What are the assumptions regarding the distribution of the data? "
   ]
  },
  {
   "cell_type": "markdown",
   "metadata": {},
   "source": [
    "Answer: \n",
    "1. The data follows a normal distribution.\n",
    "2. The data is sourced from a random sample so that factors not included in the dataset aren't unduly influencing results.\n"
   ]
  },
  {
   "cell_type": "markdown",
   "metadata": {},
   "source": [
    "#### 2b. How will you determine the distribution of your data? "
   ]
  },
  {
   "cell_type": "markdown",
   "metadata": {
    "collapsed": true
   },
   "source": [
    "Answer: \n",
    "\n",
    "1. Get summary statists on the count, mean, min, max, standard deviation, and quartiles\n",
    "2. Plot each column to determine skew and tail length\n",
    "3. Determine the concentration of the data about the peak (fat or long tail)\n",
    "4. Determine the skew of the data about the mean\n",
    "5. Determine how many null values are in each field"
   ]
  },
  {
   "cell_type": "markdown",
   "metadata": {},
   "source": [
    "#### 3a. How might outliers impact your analysis? "
   ]
  },
  {
   "cell_type": "markdown",
   "metadata": {
    "collapsed": true
   },
   "source": [
    "Answer: Outliers tend to cause a larger thaan expected difference between the mean and median values.  Outliers will be most impactful for the fields with the widest range of values.  Outliers shouldn't be consided for 'prestige' since it has only four possible values. They will be impactful for GRE and GPA."
   ]
  },
  {
   "cell_type": "markdown",
   "metadata": {},
   "source": [
    "#### 3b. How will you test for outliers? "
   ]
  },
  {
   "cell_type": "markdown",
   "metadata": {},
   "source": [
    "Answer: Use a box plot to determine the upper and outer quartiles and consider any data outside these ranges as outliers.  Alternatively, calculate standard deviation and consider data points outside of 2 standard deviations as outliers.  The second method will include more data points as it only excludes 10% of them (assuming normal distribution) while the former eliminates ~50%. Box plots and histograms are commonly used to identify outliers."
   ]
  },
  {
   "cell_type": "markdown",
   "metadata": {},
   "source": [
    "#### 4. What is your exploratory analysis plan?\n",
    "Using the above information, write an exploratory analysis plan that would allow you or a colleague to reproduce your analysis 1 year from now. "
   ]
  },
  {
   "cell_type": "markdown",
   "metadata": {},
   "source": [
    "Answer: \n",
    "\n",
    "First create a dataframe containing the data in admissions.csv\n",
    "\n",
    "1. Identify the count, mean, min, max, standard deviation, and deciles of the data with df.describe(percentiles=0.1)\n",
    "2. Plot a histogram for Admit, GPA, GRE, and Rank with df.hist()\n",
    "3. Determine the measured of central tendency with df.mean(), df.median(), and df.mode()\n",
    "4. Determine concentration of the data about the peak and the fatness of the tails with df.kurtosis()\n",
    "5. Determine the skew of the data about the mean with df.skew()\n",
    "6. Determine the number of null values in each column with df[column].isnull().sum()\n",
    "7. Visualize the each column with df[column].plot \n",
    "8. Quantify differences between the rank, GPA, and GRE admitted and non admitted students by running\n",
    "     - df[df.Admit==1].Rank.mean()\n",
    "     - df[df.Admit==1].GPA.mean()\n",
    "     - df[df.Admit==1].GRE.mean()\n",
    "     - df[df.Admit==0].Rank.mean()\n",
    "     - df[df.Admit==0].GPA.mean()\n",
    "     - df[df.Admit==0].GRE.mean()\n"
   ]
  },
  {
   "cell_type": "markdown",
   "metadata": {},
   "source": [
    "## Bonus Questions:\n",
    "1. Outline your analysis method for predicting your outcome\n",
    "2. Write an alternative problem statement for your dataset\n",
    "3. Articulate the assumptions and risks of the alternative model"
   ]
  },
  {
   "cell_type": "markdown",
   "metadata": {
    "collapsed": true
   },
   "source": [
    "1. Outline your analysis method for predicting your outcome\n",
    "\n",
    "     - Create four dummy variables for the 'Rank' field: 'Prestige_1', 'Prestige_2', 'Prestige_3', 'Prestige_4'\n",
    "     - Join the existing admissions data with the newly created dummy variables 'Prestige_2', 'Prestige_3', and 'Prestige_4'\n",
    "     - Manually add an intercept\n",
    "     - Conduct a logistic regression determining the fit of Rank, GPA, and GRE to Admit\n",
    "     - Print the summary to determine the coefficients, standard error, and confidence interval\n",
    "     - Take the exponential of the coefficients to get the odds ratio\n",
    "     - Create a cartesian function and enumerate the possible outcomes\n",
    "     - Make predictions on the whether an applicant will be admitted for given input values\n",
    "     - Plot isolated probability of admittance for each variable"
   ]
  }
 ],
 "metadata": {
  "kernelspec": {
   "display_name": "Python 2",
   "language": "python",
   "name": "python2"
  },
  "language_info": {
   "codemirror_mode": {
    "name": "ipython",
    "version": 2
   },
   "file_extension": ".py",
   "mimetype": "text/x-python",
   "name": "python",
   "nbconvert_exporter": "python",
   "pygments_lexer": "ipython2",
   "version": "2.7.13"
  }
 },
 "nbformat": 4,
 "nbformat_minor": 0
}
